{
 "cells": [
  {
   "cell_type": "markdown",
   "id": "13627ce9",
   "metadata": {},
   "source": [
    "# Twitter Sentiment Analysis using NLP and Naive Bayes Classifier"
   ]
  },
  {
   "cell_type": "markdown",
   "id": "24e44077",
   "metadata": {},
   "source": [
    "### Keshava G\n",
    "### 21ME63R40"
   ]
  },
  {
   "cell_type": "code",
   "execution_count": 1,
   "id": "57f40fff",
   "metadata": {},
   "outputs": [],
   "source": [
    "import numpy as np\n",
    "import matplotlib.pyplot as plt\n",
    "import pandas as pd\n",
    "from textblob import TextBlob"
   ]
  },
  {
   "cell_type": "code",
   "execution_count": 2,
   "id": "18bb9be1",
   "metadata": {},
   "outputs": [],
   "source": [
    "from wordcloud import WordCloud"
   ]
  },
  {
   "cell_type": "code",
   "execution_count": 3,
   "id": "f2f42555",
   "metadata": {},
   "outputs": [],
   "source": [
    "df = pd.read_csv('tweets_raw.csv')"
   ]
  },
  {
   "cell_type": "code",
   "execution_count": 7,
   "id": "a14905f1",
   "metadata": {},
   "outputs": [],
   "source": [
    "df = df.drop(['Unnamed: 0','Unnamed: 0.1','Location','Username','Created at'],axis = 1)"
   ]
  },
  {
   "cell_type": "code",
   "execution_count": 8,
   "id": "fdcf9c02",
   "metadata": {},
   "outputs": [
    {
     "data": {
      "text/html": [
       "<div>\n",
       "<style scoped>\n",
       "    .dataframe tbody tr th:only-of-type {\n",
       "        vertical-align: middle;\n",
       "    }\n",
       "\n",
       "    .dataframe tbody tr th {\n",
       "        vertical-align: top;\n",
       "    }\n",
       "\n",
       "    .dataframe thead th {\n",
       "        text-align: right;\n",
       "    }\n",
       "</style>\n",
       "<table border=\"1\" class=\"dataframe\">\n",
       "  <thead>\n",
       "    <tr style=\"text-align: right;\">\n",
       "      <th></th>\n",
       "      <th>Content</th>\n",
       "      <th>Retweet-Count</th>\n",
       "      <th>Favorites</th>\n",
       "    </tr>\n",
       "  </thead>\n",
       "  <tbody>\n",
       "    <tr>\n",
       "      <th>0</th>\n",
       "      <td>innovate an innovative approach #quoteoftheday...</td>\n",
       "      <td>0</td>\n",
       "      <td>0</td>\n",
       "    </tr>\n",
       "    <tr>\n",
       "      <th>1</th>\n",
       "      <td>The pandemic is raising concerns about how tee...</td>\n",
       "      <td>0</td>\n",
       "      <td>0</td>\n",
       "    </tr>\n",
       "    <tr>\n",
       "      <th>2</th>\n",
       "      <td>STI: Staying Education-ready in the New Normal...</td>\n",
       "      <td>0</td>\n",
       "      <td>0</td>\n",
       "    </tr>\n",
       "    <tr>\n",
       "      <th>3</th>\n",
       "      <td>Digital Learning Through Digital RCRT\\n.\\n.\\nR...</td>\n",
       "      <td>0</td>\n",
       "      <td>0</td>\n",
       "    </tr>\n",
       "    <tr>\n",
       "      <th>4</th>\n",
       "      <td>Upswing Classroom: Out and Out Virtual School,...</td>\n",
       "      <td>1</td>\n",
       "      <td>0</td>\n",
       "    </tr>\n",
       "  </tbody>\n",
       "</table>\n",
       "</div>"
      ],
      "text/plain": [
       "                                             Content  Retweet-Count  Favorites\n",
       "0  innovate an innovative approach #quoteoftheday...              0          0\n",
       "1  The pandemic is raising concerns about how tee...              0          0\n",
       "2  STI: Staying Education-ready in the New Normal...              0          0\n",
       "3  Digital Learning Through Digital RCRT\\n.\\n.\\nR...              0          0\n",
       "4  Upswing Classroom: Out and Out Virtual School,...              1          0"
      ]
     },
     "execution_count": 8,
     "metadata": {},
     "output_type": "execute_result"
    }
   ],
   "source": [
    "df.head()"
   ]
  },
  {
   "cell_type": "code",
   "execution_count": 9,
   "id": "ae191c8d",
   "metadata": {},
   "outputs": [],
   "source": [
    "import re\n",
    "def clean(text):\n",
    "    text = re.sub(r'@[^a-zA-Z0-9]+','',text)\n",
    "    text = re.sub(r'#','',text)\n",
    "    text = re.sub(r'\\/ + n','',text)\n",
    "    text = re.sub(r'RT[\\s]+','',text)\n",
    "    text = re.sub(r'https?:\\/\\/\\S+','',text)\n",
    "    text = text.replace('\\n', ' ')\n",
    "    text = text.replace('.', ' ')\n",
    "    \n",
    "    return text"
   ]
  },
  {
   "cell_type": "code",
   "execution_count": 10,
   "id": "3bc9e185",
   "metadata": {},
   "outputs": [
    {
     "data": {
      "text/plain": [
       "0         innovate an innovative approach quoteoftheday ...\n",
       "1         The pandemic is raising concerns about how tee...\n",
       "2         STI: Staying Education-ready in the New Normal...\n",
       "3         Digital Learning Through Digital RC    Registr...\n",
       "4         Upswing Classroom: Out and Out Virtual School,...\n",
       "                                ...                        \n",
       "202640    New post by our amazing author, @DrJacieMaslyk...\n",
       "202641    When you move into a new office on Monday and ...\n",
       "202642    Looking for advice on how two full time workin...\n",
       "202643    Join me tomorrow!!  MNEA NEA BetterTogether ed...\n",
       "202644    First day of virtual school starts tomorrow! G...\n",
       "Name: Content, Length: 202645, dtype: object"
      ]
     },
     "execution_count": 10,
     "metadata": {},
     "output_type": "execute_result"
    }
   ],
   "source": [
    "df['Content'] = df['Content'].apply(clean)\n",
    "df['Content']"
   ]
  },
  {
   "cell_type": "code",
   "execution_count": 12,
   "id": "4c3a80c7",
   "metadata": {
    "scrolled": true
   },
   "outputs": [
    {
     "name": "stderr",
     "output_type": "stream",
     "text": [
      "[nltk_data] Downloading package stopwords to C:\\Users\\Keshava\n",
      "[nltk_data]     G\\AppData\\Roaming\\nltk_data...\n",
      "[nltk_data]   Package stopwords is already up-to-date!\n"
     ]
    }
   ],
   "source": [
    "import re\n",
    "import nltk\n",
    "nltk.download('stopwords')\n",
    "from nltk.corpus import stopwords\n",
    "from nltk.stem.porter import PorterStemmer\n",
    "corpus = []\n",
    "for i in range(0, len(df['Content'])):\n",
    "  review = re.sub('[^a-zA-Z]', ' ', df['Content'][i])\n",
    "  review = review.lower()\n",
    "  review = review.split()\n",
    "  ps = PorterStemmer()\n",
    "  all_stopwords = stopwords.words('english')\n",
    "  all_stopwords.remove('not')\n",
    "  review = [ps.stem(word) for word in review if not word in set(all_stopwords)]\n",
    "  review = ' '.join(review)\n",
    "  corpus.append(review)"
   ]
  },
  {
   "cell_type": "code",
   "execution_count": 13,
   "id": "b8de048e",
   "metadata": {},
   "outputs": [
    {
     "data": {
      "text/html": [
       "<div>\n",
       "<style scoped>\n",
       "    .dataframe tbody tr th:only-of-type {\n",
       "        vertical-align: middle;\n",
       "    }\n",
       "\n",
       "    .dataframe tbody tr th {\n",
       "        vertical-align: top;\n",
       "    }\n",
       "\n",
       "    .dataframe thead th {\n",
       "        text-align: right;\n",
       "    }\n",
       "</style>\n",
       "<table border=\"1\" class=\"dataframe\">\n",
       "  <thead>\n",
       "    <tr style=\"text-align: right;\">\n",
       "      <th></th>\n",
       "      <th>Content</th>\n",
       "      <th>Retweet-Count</th>\n",
       "      <th>Favorites</th>\n",
       "      <th>corpus</th>\n",
       "    </tr>\n",
       "  </thead>\n",
       "  <tbody>\n",
       "    <tr>\n",
       "      <th>0</th>\n",
       "      <td>innovate an innovative approach quoteoftheday ...</td>\n",
       "      <td>0</td>\n",
       "      <td>0</td>\n",
       "      <td>innov innov approach quoteoftheday digitalmark...</td>\n",
       "    </tr>\n",
       "    <tr>\n",
       "      <th>1</th>\n",
       "      <td>The pandemic is raising concerns about how tee...</td>\n",
       "      <td>0</td>\n",
       "      <td>0</td>\n",
       "      <td>pandem rais concern teen use technolog still l...</td>\n",
       "    </tr>\n",
       "    <tr>\n",
       "      <th>2</th>\n",
       "      <td>STI: Staying Education-ready in the New Normal...</td>\n",
       "      <td>0</td>\n",
       "      <td>0</td>\n",
       "      <td>sti stay educ readi new normal inquir technolo...</td>\n",
       "    </tr>\n",
       "    <tr>\n",
       "      <th>3</th>\n",
       "      <td>Digital Learning Through Digital RC    Registr...</td>\n",
       "      <td>0</td>\n",
       "      <td>0</td>\n",
       "      <td>digit learn digit rc registr open soon websit ...</td>\n",
       "    </tr>\n",
       "    <tr>\n",
       "      <th>4</th>\n",
       "      <td>Upswing Classroom: Out and Out Virtual School,...</td>\n",
       "      <td>1</td>\n",
       "      <td>0</td>\n",
       "      <td>upsw classroom virtual school not classroom ed...</td>\n",
       "    </tr>\n",
       "  </tbody>\n",
       "</table>\n",
       "</div>"
      ],
      "text/plain": [
       "                                             Content  Retweet-Count  \\\n",
       "0  innovate an innovative approach quoteoftheday ...              0   \n",
       "1  The pandemic is raising concerns about how tee...              0   \n",
       "2  STI: Staying Education-ready in the New Normal...              0   \n",
       "3  Digital Learning Through Digital RC    Registr...              0   \n",
       "4  Upswing Classroom: Out and Out Virtual School,...              1   \n",
       "\n",
       "   Favorites                                             corpus  \n",
       "0          0  innov innov approach quoteoftheday digitalmark...  \n",
       "1          0  pandem rais concern teen use technolog still l...  \n",
       "2          0  sti stay educ readi new normal inquir technolo...  \n",
       "3          0  digit learn digit rc registr open soon websit ...  \n",
       "4          0  upsw classroom virtual school not classroom ed...  "
      ]
     },
     "execution_count": 13,
     "metadata": {},
     "output_type": "execute_result"
    }
   ],
   "source": [
    "df['corpus'] = pd.DataFrame(corpus)\n",
    "df.head()"
   ]
  },
  {
   "cell_type": "code",
   "execution_count": 14,
   "id": "16e040b5",
   "metadata": {},
   "outputs": [],
   "source": [
    "def getsubjectivity(text):\n",
    "    return TextBlob(text).sentiment.subjectivity\n",
    "\n",
    "def getpolority(text):\n",
    "    return TextBlob(text).sentiment.polarity"
   ]
  },
  {
   "cell_type": "code",
   "execution_count": 16,
   "id": "a42defd9",
   "metadata": {},
   "outputs": [],
   "source": [
    "df['subjectivity'] = df['corpus'].apply(getsubjectivity)"
   ]
  },
  {
   "cell_type": "code",
   "execution_count": 17,
   "id": "8afee34a",
   "metadata": {},
   "outputs": [],
   "source": [
    "df['polority'] = df['corpus'].apply(getpolority)"
   ]
  },
  {
   "cell_type": "code",
   "execution_count": 18,
   "id": "6f06ed94",
   "metadata": {},
   "outputs": [
    {
     "data": {
      "text/html": [
       "<div>\n",
       "<style scoped>\n",
       "    .dataframe tbody tr th:only-of-type {\n",
       "        vertical-align: middle;\n",
       "    }\n",
       "\n",
       "    .dataframe tbody tr th {\n",
       "        vertical-align: top;\n",
       "    }\n",
       "\n",
       "    .dataframe thead th {\n",
       "        text-align: right;\n",
       "    }\n",
       "</style>\n",
       "<table border=\"1\" class=\"dataframe\">\n",
       "  <thead>\n",
       "    <tr style=\"text-align: right;\">\n",
       "      <th></th>\n",
       "      <th>Content</th>\n",
       "      <th>Retweet-Count</th>\n",
       "      <th>Favorites</th>\n",
       "      <th>corpus</th>\n",
       "      <th>subjectivity</th>\n",
       "      <th>polority</th>\n",
       "    </tr>\n",
       "  </thead>\n",
       "  <tbody>\n",
       "    <tr>\n",
       "      <th>0</th>\n",
       "      <td>innovate an innovative approach quoteoftheday ...</td>\n",
       "      <td>0</td>\n",
       "      <td>0</td>\n",
       "      <td>innov innov approach quoteoftheday digitalmark...</td>\n",
       "      <td>0.000000</td>\n",
       "      <td>0.000000</td>\n",
       "    </tr>\n",
       "    <tr>\n",
       "      <th>1</th>\n",
       "      <td>The pandemic is raising concerns about how tee...</td>\n",
       "      <td>0</td>\n",
       "      <td>0</td>\n",
       "      <td>pandem rais concern teen use technolog still l...</td>\n",
       "      <td>0.000000</td>\n",
       "      <td>0.000000</td>\n",
       "    </tr>\n",
       "    <tr>\n",
       "      <th>2</th>\n",
       "      <td>STI: Staying Education-ready in the New Normal...</td>\n",
       "      <td>0</td>\n",
       "      <td>0</td>\n",
       "      <td>sti stay educ readi new normal inquir technolo...</td>\n",
       "      <td>0.552273</td>\n",
       "      <td>0.143182</td>\n",
       "    </tr>\n",
       "    <tr>\n",
       "      <th>3</th>\n",
       "      <td>Digital Learning Through Digital RC    Registr...</td>\n",
       "      <td>0</td>\n",
       "      <td>0</td>\n",
       "      <td>digit learn digit rc registr open soon websit ...</td>\n",
       "      <td>0.500000</td>\n",
       "      <td>0.000000</td>\n",
       "    </tr>\n",
       "    <tr>\n",
       "      <th>4</th>\n",
       "      <td>Upswing Classroom: Out and Out Virtual School,...</td>\n",
       "      <td>1</td>\n",
       "      <td>0</td>\n",
       "      <td>upsw classroom virtual school not classroom ed...</td>\n",
       "      <td>0.000000</td>\n",
       "      <td>0.000000</td>\n",
       "    </tr>\n",
       "  </tbody>\n",
       "</table>\n",
       "</div>"
      ],
      "text/plain": [
       "                                             Content  Retweet-Count  \\\n",
       "0  innovate an innovative approach quoteoftheday ...              0   \n",
       "1  The pandemic is raising concerns about how tee...              0   \n",
       "2  STI: Staying Education-ready in the New Normal...              0   \n",
       "3  Digital Learning Through Digital RC    Registr...              0   \n",
       "4  Upswing Classroom: Out and Out Virtual School,...              1   \n",
       "\n",
       "   Favorites                                             corpus  subjectivity  \\\n",
       "0          0  innov innov approach quoteoftheday digitalmark...      0.000000   \n",
       "1          0  pandem rais concern teen use technolog still l...      0.000000   \n",
       "2          0  sti stay educ readi new normal inquir technolo...      0.552273   \n",
       "3          0  digit learn digit rc registr open soon websit ...      0.500000   \n",
       "4          0  upsw classroom virtual school not classroom ed...      0.000000   \n",
       "\n",
       "   polority  \n",
       "0  0.000000  \n",
       "1  0.000000  \n",
       "2  0.143182  \n",
       "3  0.000000  \n",
       "4  0.000000  "
      ]
     },
     "execution_count": 18,
     "metadata": {},
     "output_type": "execute_result"
    }
   ],
   "source": [
    "df.head()"
   ]
  },
  {
   "cell_type": "code",
   "execution_count": 19,
   "id": "59905293",
   "metadata": {},
   "outputs": [
    {
     "data": {
      "text/plain": [
       "'Upswing Classroom: Out and Out Virtual School, Not Just a Classroom! - EdTechReview  education edtech educators students edchat learning teachers classroom DigitalLearning Teachers'"
      ]
     },
     "execution_count": 19,
     "metadata": {},
     "output_type": "execute_result"
    }
   ],
   "source": [
    "df['Content'][4]"
   ]
  },
  {
   "cell_type": "code",
   "execution_count": 20,
   "id": "afa7c187",
   "metadata": {},
   "outputs": [],
   "source": [
    "def getany(score):\n",
    "    if score<0:\n",
    "        return 'Negative'\n",
    "    elif score == 0:\n",
    "        return 'Neutral'\n",
    "    else:\n",
    "        return 'Positive'\n",
    "df['Analysis'] = df['polority'].apply(getany)"
   ]
  },
  {
   "cell_type": "code",
   "execution_count": 21,
   "id": "7fa8af77",
   "metadata": {},
   "outputs": [
    {
     "data": {
      "text/plain": [
       "array(['Neutral', 'Positive', 'Negative'], dtype=object)"
      ]
     },
     "execution_count": 21,
     "metadata": {},
     "output_type": "execute_result"
    }
   ],
   "source": [
    "df['Analysis'].unique()"
   ]
  },
  {
   "cell_type": "code",
   "execution_count": 1,
   "id": "02cf0a56",
   "metadata": {},
   "outputs": [
    {
     "ename": "NameError",
     "evalue": "name 'df' is not defined",
     "output_type": "error",
     "traceback": [
      "\u001b[1;31m---------------------------------------------------------------------------\u001b[0m",
      "\u001b[1;31mNameError\u001b[0m                                 Traceback (most recent call last)",
      "\u001b[1;32mC:\\Users\\KESHAV~1\\AppData\\Local\\Temp/ipykernel_12688/840486433.py\u001b[0m in \u001b[0;36m<module>\u001b[1;34m\u001b[0m\n\u001b[0;32m      1\u001b[0m \u001b[1;32mfrom\u001b[0m \u001b[0msklearn\u001b[0m\u001b[1;33m.\u001b[0m\u001b[0mfeature_extraction\u001b[0m\u001b[1;33m.\u001b[0m\u001b[0mtext\u001b[0m \u001b[1;32mimport\u001b[0m \u001b[0mCountVectorizer\u001b[0m\u001b[1;33m\u001b[0m\u001b[1;33m\u001b[0m\u001b[0m\n\u001b[0;32m      2\u001b[0m \u001b[0mcv\u001b[0m \u001b[1;33m=\u001b[0m \u001b[0mCountVectorizer\u001b[0m\u001b[1;33m(\u001b[0m\u001b[0mmax_features\u001b[0m \u001b[1;33m=\u001b[0m \u001b[1;36m1500\u001b[0m\u001b[1;33m)\u001b[0m\u001b[1;33m\u001b[0m\u001b[1;33m\u001b[0m\u001b[0m\n\u001b[1;32m----> 3\u001b[1;33m \u001b[0mX\u001b[0m \u001b[1;33m=\u001b[0m \u001b[0mcv\u001b[0m\u001b[1;33m.\u001b[0m\u001b[0mfit_transform\u001b[0m\u001b[1;33m(\u001b[0m\u001b[0mdf\u001b[0m\u001b[1;33m[\u001b[0m\u001b[1;34m'corpus'\u001b[0m\u001b[1;33m]\u001b[0m\u001b[1;33m)\u001b[0m\u001b[1;33m.\u001b[0m\u001b[0mtoarray\u001b[0m\u001b[1;33m(\u001b[0m\u001b[1;33m)\u001b[0m\u001b[1;33m\u001b[0m\u001b[1;33m\u001b[0m\u001b[0m\n\u001b[0m\u001b[0;32m      4\u001b[0m \u001b[0my\u001b[0m \u001b[1;33m=\u001b[0m \u001b[0mdf\u001b[0m\u001b[1;33m.\u001b[0m\u001b[0miloc\u001b[0m\u001b[1;33m[\u001b[0m\u001b[1;33m:\u001b[0m\u001b[1;33m,\u001b[0m \u001b[1;33m-\u001b[0m\u001b[1;36m1\u001b[0m\u001b[1;33m]\u001b[0m\u001b[1;33m.\u001b[0m\u001b[0mvalues\u001b[0m\u001b[1;33m\u001b[0m\u001b[1;33m\u001b[0m\u001b[0m\n",
      "\u001b[1;31mNameError\u001b[0m: name 'df' is not defined"
     ]
    }
   ],
   "source": [
    "from sklearn.feature_extraction.text import CountVectorizer\n",
    "cv = CountVectorizer(max_features = 1500)\n",
    "X = cv.fit_transform(df['corpus']).toarray()\n",
    "y = df.iloc[:, -1].values"
   ]
  },
  {
   "cell_type": "code",
   "execution_count": 30,
   "id": "0f63a80c",
   "metadata": {},
   "outputs": [
    {
     "data": {
      "text/plain": [
       "array(['Neutral', 'Neutral', 'Positive', ..., 'Positive', 'Neutral',\n",
       "       'Positive'], dtype=object)"
      ]
     },
     "execution_count": 30,
     "metadata": {},
     "output_type": "execute_result"
    }
   ],
   "source": [
    "y"
   ]
  },
  {
   "cell_type": "code",
   "execution_count": 31,
   "id": "69d4c5e6",
   "metadata": {},
   "outputs": [],
   "source": [
    "from sklearn.model_selection import train_test_split\n",
    "X_train, X_test, y_train, y_test = train_test_split(X, y, test_size = 0.20, random_state = 0)"
   ]
  },
  {
   "cell_type": "code",
   "execution_count": 32,
   "id": "7a5e40e2",
   "metadata": {},
   "outputs": [
    {
     "data": {
      "text/plain": [
       "GaussianNB()"
      ]
     },
     "execution_count": 32,
     "metadata": {},
     "output_type": "execute_result"
    }
   ],
   "source": [
    "from sklearn.naive_bayes import GaussianNB\n",
    "classifier = GaussianNB()\n",
    "classifier.fit(X_train, y_train)"
   ]
  },
  {
   "cell_type": "code",
   "execution_count": 33,
   "id": "e94e1b7d",
   "metadata": {},
   "outputs": [
    {
     "name": "stdout",
     "output_type": "stream",
     "text": [
      "[['Negative' 'Positive']\n",
      " ['Positive' 'Positive']\n",
      " ['Neutral' 'Positive']\n",
      " ...\n",
      " ['Neutral' 'Neutral']\n",
      " ['Neutral' 'Neutral']\n",
      " ['Neutral' 'Neutral']]\n"
     ]
    }
   ],
   "source": [
    "y_pred = classifier.predict(X_test)\n",
    "print(np.concatenate((y_pred.reshape(len(y_pred),1), y_test.reshape(len(y_test),1)),1))"
   ]
  },
  {
   "cell_type": "code",
   "execution_count": 34,
   "id": "1afb7f94",
   "metadata": {},
   "outputs": [
    {
     "name": "stdout",
     "output_type": "stream",
     "text": [
      "[[ 4578   550  1004]\n",
      " [  618 16044   306]\n",
      " [ 4146  1103 12180]]\n"
     ]
    },
    {
     "data": {
      "text/plain": [
       "0.8093463939401416"
      ]
     },
     "execution_count": 34,
     "metadata": {},
     "output_type": "execute_result"
    }
   ],
   "source": [
    "from sklearn.metrics import confusion_matrix, accuracy_score\n",
    "cm = confusion_matrix(y_test, y_pred)\n",
    "print(cm)\n",
    "accuracy_score(y_test, y_pred)"
   ]
  }
 ],
 "metadata": {
  "kernelspec": {
   "display_name": "Python 3 (ipykernel)",
   "language": "python",
   "name": "python3"
  },
  "language_info": {
   "codemirror_mode": {
    "name": "ipython",
    "version": 3
   },
   "file_extension": ".py",
   "mimetype": "text/x-python",
   "name": "python",
   "nbconvert_exporter": "python",
   "pygments_lexer": "ipython3",
   "version": "3.9.7"
  }
 },
 "nbformat": 4,
 "nbformat_minor": 5
}
